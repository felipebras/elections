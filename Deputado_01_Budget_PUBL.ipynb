{
 "cells": [
  {
   "cell_type": "code",
   "execution_count": null,
   "id": "b1bf006a",
   "metadata": {},
   "outputs": [],
   "source": [
    "import numpy as np\n",
    "import pandas as pd\n",
    "import matplotlib.pyplot as plt\n",
    "from matplotlib.patches import Patch\n",
    "from matplotlib.lines import Line2D\n",
    "import matplotlib.ticker as ticker\n",
    "import seaborn as sns\n",
    "import requests"
   ]
  },
  {
   "cell_type": "code",
   "execution_count": null,
   "id": "e5b26537",
   "metadata": {},
   "outputs": [],
   "source": [
    "# Formatting DataFrames\n",
    "pd.options.display.float_format = '{:,.2f}'.format"
   ]
  },
  {
   "cell_type": "code",
   "execution_count": null,
   "id": "6cd991f1",
   "metadata": {
    "scrolled": true
   },
   "outputs": [],
   "source": [
    "deputados = pd.read_csv('data\\deputados.csv', delimiter=';')"
   ]
  },
  {
   "cell_type": "code",
   "execution_count": null,
   "id": "fc6aae83",
   "metadata": {},
   "outputs": [],
   "source": [
    "deputados"
   ]
  },
  {
   "cell_type": "code",
   "execution_count": null,
   "id": "328078f3",
   "metadata": {},
   "outputs": [],
   "source": [
    "# Try to find your representative's name changing the below variable\n",
    "part_of_name = 'name here'\n",
    "deputados[deputados['nomeCivil'].str.contains(part_of_name, case=False)]"
   ]
  },
  {
   "cell_type": "code",
   "execution_count": null,
   "id": "1d895618",
   "metadata": {},
   "outputs": [],
   "source": [
    "# A workaround to get the representative unique ID: last part of the URI\n",
    "list(deputados[deputados['nomeCivil'].str.contains(part_of_name, case=False)]['uri'])"
   ]
  },
  {
   "cell_type": "code",
   "execution_count": null,
   "id": "fc5c8f36",
   "metadata": {},
   "outputs": [],
   "source": [
    "# import annual budget, then compile\n",
    "budget_2019 = pd.read_csv('data\\Ano-2019.csv', delimiter=';')\n",
    "budget_2020 = pd.read_csv('data\\Ano-2020.csv', delimiter=';')\n",
    "budget_2021 = pd.read_csv('data\\Ano-2021.csv', delimiter=';')\n",
    "budget_2022 = pd.read_csv('data\\Ano-2022.csv', delimiter=';')"
   ]
  },
  {
   "cell_type": "code",
   "execution_count": null,
   "id": "0b5eed7e",
   "metadata": {},
   "outputs": [],
   "source": [
    "budget_2019"
   ]
  },
  {
   "cell_type": "code",
   "execution_count": null,
   "id": "8edc009c",
   "metadata": {},
   "outputs": [],
   "source": [
    "budget_2019.columns"
   ]
  },
  {
   "cell_type": "code",
   "execution_count": null,
   "id": "abdba42b",
   "metadata": {},
   "outputs": [],
   "source": [
    "# Ugly but working way of unifying the database...\n",
    "# Insert representative UID in the below variable\n",
    "representative_uid: int = 1234567890\n",
    "budget = budget_2019[budget_2019['ideCadastro'] == representative_uid].copy()\n",
    "budget = pd.concat([budget, budget_2020[budget_2020['ideCadastro'] == representative_uid].copy()])\n",
    "budget = pd.concat([budget, budget_2021[budget_2021['ideCadastro'] == representative_uid].copy()])\n",
    "budget = pd.concat([budget, budget_2022[budget_2022['ideCadastro'] == representative_uid].copy()])"
   ]
  },
  {
   "cell_type": "code",
   "execution_count": null,
   "id": "5c778c53",
   "metadata": {},
   "outputs": [],
   "source": [
    "# View all columns of dataframe\n",
    "original_num_columns = pd.options.display.max_columns\n",
    "pd.options.display.max_columns = len(budget.columns)\n",
    "budget.head(7)"
   ]
  },
  {
   "cell_type": "code",
   "execution_count": null,
   "id": "a1b1a1ac",
   "metadata": {},
   "outputs": [],
   "source": [
    "# Revert settings\n",
    "pd.options.display.max_columns = original_num_columns"
   ]
  },
  {
   "cell_type": "code",
   "execution_count": null,
   "id": "2bd87205",
   "metadata": {},
   "outputs": [],
   "source": [
    "# Create a datetime column\n",
    "budget['date'] = pd.to_datetime(budget['numAno'].astype(str) + \"/\" + budget['numMes'].astype(str) + \"/01\")"
   ]
  },
  {
   "cell_type": "code",
   "execution_count": null,
   "id": "bd656be8",
   "metadata": {},
   "outputs": [],
   "source": [
    "budget_grouped = budget.groupby(['numAno', 'numMes', 'txtDescricao'])['vlrLiquido'].sum().reset_index().copy()"
   ]
  },
  {
   "cell_type": "code",
   "execution_count": null,
   "id": "d17adc61",
   "metadata": {},
   "outputs": [],
   "source": [
    "# Creating columns with a proper date format\n",
    "budget_grouped['date'] = pd.to_datetime(\n",
    "    budget_grouped['numAno'].astype(str)\n",
    "    + \"/\" + budget_grouped['numMes'].astype(str) \n",
    "    + \"/01\"\n",
    ")"
   ]
  },
  {
   "cell_type": "code",
   "execution_count": null,
   "id": "e0f6ee63",
   "metadata": {},
   "outputs": [],
   "source": [
    "budget_grouped"
   ]
  },
  {
   "cell_type": "code",
   "execution_count": null,
   "id": "6b145b8c",
   "metadata": {},
   "outputs": [],
   "source": [
    "# I'm going to reclassify the expenses with less categories, for clarity\n",
    "descr_reclass = {\n",
    "    'MANUTENÇÃO DE ESCRITÓRIO DE APOIO À ATIVIDADE PARLAMENTAR': 'Office Expenses',\n",
    "    'COMBUSTÍVEIS E LUBRIFICANTES.': 'Transportation',\n",
    "    'CONSULTORIAS, PESQUISAS E TRABALHOS TÉCNICOS.': 'Consulting',\n",
    "    'DIVULGAÇÃO DA ATIVIDADE PARLAMENTAR.': 'Publicity',\n",
    "    'PASSAGEM AÉREA - REEMBOLSO': 'Air Travel',\n",
    "    'TELEFONIA': 'Miscelaneous',\n",
    "    'SERVIÇOS POSTAIS': 'Miscelaneous',\n",
    "    'ASSINATURA DE PUBLICAÇÕES': 'Miscelaneous',\n",
    "    'FORNECIMENTO DE ALIMENTAÇÃO DO PARLAMENTAR': 'Catering',\n",
    "    'HOSPEDAGEM ,EXCETO DO PARLAMENTAR NO DISTRITO FEDERAL.': 'Lodging',\n",
    "    'LOCAÇÃO OU FRETAMENTO DE VEÍCULOS AUTOMOTORES': 'Transportation',\n",
    "    'SERVIÇO DE TÁXI, PEDÁGIO E ESTACIONAMENTO': 'Transportation',\n",
    "    'PASSAGENS TERRESTRES, MARÍTIMAS OU FLUVIAIS': 'Transportation',\n",
    "    'PASSAGEM AÉREA - SIGEPA': 'Air Travel',\n",
    "    'PASSAGEM AÉREA - RPA': 'Air Travel',\n",
    "    'SERVIÇO DE SEGURANÇA PRESTADO POR EMPRESA ESPECIALIZADA.': 'Security Services',\n",
    "    'PARTICIPAÇÃO EM CURSO, PALESTRA OU EVENTO SIMILAR': 'Courses',\n",
    "    'LOCAÇÃO OU FRETAMENTO DE AERONAVES': 'Chartered Flights',\n",
    "    'LOCAÇÃO OU FRETAMENTO DE EMBARCAÇÕES': 'Vessel/Boat Rental'\n",
    "}\n",
    "\n",
    "budget['txtClassification'] = budget['txtDescricao'].map(descr_reclass).astype('category')\n",
    "\n",
    "budget['txtClassification'].unique()"
   ]
  },
  {
   "cell_type": "code",
   "execution_count": null,
   "id": "53c44ed3",
   "metadata": {},
   "outputs": [],
   "source": [
    "# Checking new categories / grouping\n",
    "budget_grouped = budget.groupby(['numAno', 'numMes', 'txtClassification'])['vlrLiquido'].sum().reset_index().copy()\n",
    "budget_grouped.reset_index()\n",
    "budget_grouped['date'] = pd.to_datetime(\n",
    "    budget_grouped['numAno'].astype(str)\n",
    "    + \"/\" + budget_grouped['numMes'].astype(str) \n",
    "    + \"/01\"\n",
    ")\n",
    "budget_grouped"
   ]
  },
  {
   "cell_type": "code",
   "execution_count": null,
   "id": "a979993b",
   "metadata": {
    "scrolled": false
   },
   "outputs": [],
   "source": [
    "# PLOT OF SELECTED REPRESENTATIVE'S EXPENSES\n",
    "# List of years in legislature\n",
    "years = list(budget_grouped['numAno'].unique())\n",
    "\n",
    "# List of categories of expenses\n",
    "categ = list(budget_grouped['txtClassification'].unique().sort_values())\n",
    "\n",
    "# SUBPLOTS\n",
    "fig, ax = plt.subplots(figsize=(16, 3 * len(years)), sharex=False, sharey=True, ncols=1, nrows=len(years))\n",
    "\n",
    "# CONSTANTS\n",
    "bar_width = 0.6 / len(categ)\n",
    "bar_xlim = (0, 13)\n",
    "bar_y_interval = 2500\n",
    "bar_ylim = (0, (max(budget_grouped['vlrLiquido']) // bar_y_interval + 1) * bar_y_interval)\n",
    "bar_xticks_major = range(1, 13)\n",
    "bar_xlabels = ['Jan', 'Feb', 'Mar', 'Apr', 'May', 'Jun', 'Jul', 'Aug', 'Sep', 'Oct', 'Nov', 'Dec']\n",
    "\n",
    "# CREATE A BAR PLOT FOR EACH YEAR\n",
    "for _i, _year in enumerate(years):\n",
    "    \n",
    "    # CREATE SHADING TO SEPARATE MONTHS\n",
    "    for _k, _month in enumerate(bar_xlabels):\n",
    "        if _k % 2 != 0:\n",
    "            ax[_i].axvspan(\n",
    "                xmin=(_k - 0.5),\n",
    "                xmax=(_k + 0.5),\n",
    "                ymin=0,\n",
    "                ymax=1,\n",
    "                color='lightgray',\n",
    "                alpha=0.35\n",
    "            )\n",
    "    \n",
    "    # CREATE DATA AND BARS FOR EACH CATEGORY\n",
    "    for _j, _categ in enumerate(categ):\n",
    "        bar_data = (\n",
    "            budget_grouped[\n",
    "                (budget_grouped['numAno'] == _year)\n",
    "                & (budget_grouped['txtClassification'] == _categ)\n",
    "            ].groupby(['numMes']).sum()\n",
    "        )\n",
    "        \n",
    "        _x = bar_data.index - (len(categ) / 2 - _j) * bar_width\n",
    "        _y = bar_data['vlrLiquido']\n",
    "        ax[_i].bar(x=_x, height=_y, width=bar_width, align='center', color=sns.color_palette('tab20')[_j])\n",
    "    \n",
    "    # LIMITS\n",
    "    ax[_i].set_xlim(bar_xlim)\n",
    "    ax[_i].set_ylim(bar_ylim)\n",
    "    \n",
    "    # TICK LABELS - REMOVE ALL FROM X AXIS\n",
    "    ax[_i].set_xticks([])\n",
    "    \n",
    "    # AXIS LABELS\n",
    "    ax[_i].set_ylabel(\"BRL 1k\", labelpad=10)\n",
    "    \n",
    "    # SECONDARY Y AXIS\n",
    "    # The creation of a secondary axis requires transformation functions. I just need the label...\n",
    "    # https://matplotlib.org/stable/api/_as_gen/matplotlib.axes.Axes.secondary_yaxis.html\n",
    "    sec_y = ax[_i].secondary_yaxis(location='right', functions=(lambda t: t, lambda t: t))\n",
    "    sec_y.set_yticks([])\n",
    "    sec_y.set_ylabel(f\"{_year}\")\n",
    "    \n",
    "    # GRID\n",
    "    ax[_i].grid(axis='x', which='major', visible=False)\n",
    "    ax[_i].grid(axis='y', which='major', visible=True)\n",
    "    \n",
    "    # SPINES\n",
    "    # Can't forget that the secondary Y axis is based on a duplicate AXES, so it needs disabling spine too.\n",
    "    sec_y.spines.right.set_visible(False)\n",
    "    ax[_i].spines.top.set_visible(False)\n",
    "    ax[_i].spines.right.set_visible(False)\n",
    "    ax[_i].spines.left.set_visible(False)\n",
    "    \n",
    "    # FORMATTING Y AXIS TICK LABELS\n",
    "    # See documentation on why the lambda function has two arguments and use only one\n",
    "    # https://matplotlib.org/stable/api/ticker_api.html#matplotlib.ticker.FuncFormatter\n",
    "    ax[_i].yaxis.set_major_formatter(ticker.FuncFormatter(lambda t, s: f\"{t / 1000}\"))\n",
    "\n",
    "# TICK LABELS - ADD JUST LABELS TO THE BOTTOM AXES \n",
    "ax[-1].set_xticks(ticks=bar_xticks_major, labels=bar_xlabels)\n",
    "    \n",
    "# LEGEND (customized)\n",
    "legend_elements = []\n",
    "for _j, _categ in enumerate(categ):\n",
    "    legend_elements.append(\n",
    "        Patch(\n",
    "            facecolor=sns.color_palette('tab20')[_j],\n",
    "            edgecolor=sns.color_palette('tab20')[_j],\n",
    "            label=_categ\n",
    "        )\n",
    "    )\n",
    "fig.legend(handles=legend_elements, frameon=False, ncol=4, loc='lower center', bbox_to_anchor=(0.5, 0.03))\n",
    "\n",
    "# TITLE\n",
    "fig.suptitle(t=\"Monthly Expenses by Category - Selected Representative\", y=0.92, fontsize=18)\n",
    "\n",
    "# ADJUST SPACING BETWEEN PLOTS\n",
    "plt.subplots_adjust(hspace=0.1)\n",
    "    \n",
    "plt.show()"
   ]
  },
  {
   "cell_type": "markdown",
   "id": "c43df0ca",
   "metadata": {},
   "source": [
    "I'll compare this Representative's budget with the annual average of the Brazilian Congress using the same categories."
   ]
  },
  {
   "cell_type": "code",
   "execution_count": null,
   "id": "a609edea",
   "metadata": {},
   "outputs": [],
   "source": [
    "budget_complete = pd.concat([budget_2019, budget_2020, budget_2021, budget_2022]).copy()"
   ]
  },
  {
   "cell_type": "code",
   "execution_count": null,
   "id": "ffa41ee2",
   "metadata": {},
   "outputs": [],
   "source": [
    "budget_complete.describe()"
   ]
  },
  {
   "cell_type": "code",
   "execution_count": null,
   "id": "06cc605f",
   "metadata": {},
   "outputs": [],
   "source": [
    "# Applying new categories as well\n",
    "budget_complete['txtClassification'] = budget_complete['txtDescricao'].map(descr_reclass).astype('category')"
   ]
  },
  {
   "cell_type": "code",
   "execution_count": null,
   "id": "006df223",
   "metadata": {
    "scrolled": true
   },
   "outputs": [],
   "source": [
    "# Since each state quota differs given the variations in air travel costs for each State,\n",
    "# the amount spent on the Air Travel should be corrected by a factor relating each State to Sao Paulo (my home State).\n",
    "# Chartered Flights will not receive such treatment.\n",
    "\n",
    "quota = pd.read_csv('cota_parlamentar_por_UF.csv', delimiter=',', header=0, index_col=0,\n",
    "                    dtype={'vlrCota': 'float'})\n",
    "quota"
   ]
  },
  {
   "cell_type": "code",
   "execution_count": null,
   "id": "f7fd5a71",
   "metadata": {
    "scrolled": true
   },
   "outputs": [],
   "source": [
    "budget_complete.merge(right=quota, how='left', left_on='sgUF', right_index=True)"
   ]
  },
  {
   "cell_type": "code",
   "execution_count": null,
   "id": "4666e29b",
   "metadata": {},
   "outputs": [],
   "source": [
    "# There are some NaN which are for Gov's, Minority's, Majority's, and Parties' Leaders, etc.\n",
    "# These will be treated as if from SP (ratio=1).\n",
    "budget_complete[budget_complete['sgUF'].isna()]['txNomeParlamentar'].unique()"
   ]
  },
  {
   "cell_type": "code",
   "execution_count": null,
   "id": "01dcb05e",
   "metadata": {
    "scrolled": true
   },
   "outputs": [],
   "source": [
    "budget_complete['sgUF'].fillna(value='SP', inplace=True)"
   ]
  },
  {
   "cell_type": "code",
   "execution_count": null,
   "id": "08b4da48",
   "metadata": {
    "scrolled": true
   },
   "outputs": [],
   "source": [
    "budget_complete = budget_complete.merge(right=quota, how='left', left_on='sgUF', right_index=True)\n",
    "budget_complete"
   ]
  },
  {
   "cell_type": "code",
   "execution_count": null,
   "id": "4abed7a3",
   "metadata": {},
   "outputs": [],
   "source": [
    "# Applying correction relative to SP quota\n",
    "quota_sp = float(quota[quota.index == \"SP\"]['vlrCota'])\n",
    "budget_complete['vlrLiquidoCorrigido'] = np.where(\n",
    "    budget_complete['txtClassification'] == 'Air Travel',\n",
    "    budget_complete['vlrLiquido'] * budget_complete['vlrCota'] / quota_sp,\n",
    "    budget_complete['vlrLiquido']\n",
    ")\n",
    "budget_complete"
   ]
  },
  {
   "cell_type": "code",
   "execution_count": null,
   "id": "cd487325",
   "metadata": {},
   "outputs": [],
   "source": [
    "budget_complete.groupby(['numAno', 'numMes', 'txtClassification'])['vlrLiquidoCorrigido'].mean()"
   ]
  },
  {
   "cell_type": "code",
   "execution_count": null,
   "id": "9e96c889",
   "metadata": {
    "scrolled": false
   },
   "outputs": [],
   "source": [
    "# PLOT OF THE CONGRESS / HOUSE OF REPRESENTATIVES\n",
    "# List of years in legislature\n",
    "years = list(budget_complete['numAno'].unique())\n",
    "\n",
    "# List of categories of expenses\n",
    "categ = list(budget_complete['txtClassification'].unique().sort_values())\n",
    "\n",
    "# SUBPLOTS\n",
    "fig, ax = plt.subplots(figsize=(16, 3 * len(years)), sharex=False, sharey=True, ncols=1, nrows=len(years))\n",
    "\n",
    "# CONSTANTS\n",
    "bar_width = 0.6 / len(categ)\n",
    "bar_xlim = (0, 13)\n",
    "bar_y_interval = 2500\n",
    "bar_y_max = max(budget_complete.groupby(['numAno', 'numMes', 'txtClassification'])['vlrLiquidoCorrigido'].mean())\n",
    "# bar_y_max = 20_000\n",
    "bar_ylim = (0, (bar_y_max // bar_y_interval + 1) * bar_y_interval)\n",
    "bar_xticks_major = range(1, 13)\n",
    "bar_xlabels = ['Jan', 'Feb', 'Mar', 'Apr', 'May', 'Jun', 'Jul', 'Aug', 'Sep', 'Oct', 'Nov', 'Dec']\n",
    "\n",
    "# CREATE A BAR PLOT FOR EACH YEAR\n",
    "for _i, _year in enumerate(years):\n",
    "    \n",
    "    # CREATE SHADING TO SEPARATE MONTHS\n",
    "    for _k, _month in enumerate(bar_xlabels):\n",
    "        if _k % 2 != 0:\n",
    "            ax[_i].axvspan(\n",
    "                xmin=(_k - 0.5),\n",
    "                xmax=(_k + 0.5),\n",
    "                ymin=0,\n",
    "                ymax=1,\n",
    "                color='lightgray',\n",
    "                alpha=0.35\n",
    "            )\n",
    "    \n",
    "    # CREATE DATA AND BARS FOR EACH CATEGORY\n",
    "    for _j, _categ in enumerate(categ):\n",
    "        bar_data = (\n",
    "            budget_complete[\n",
    "                (budget_complete['numAno'] == _year)\n",
    "                & (budget_complete['txtClassification'] == _categ)\n",
    "            ].groupby(['numMes']).mean()\n",
    "        )\n",
    "        \n",
    "        _x = bar_data.index - (len(categ) / 2 - _j) * bar_width\n",
    "        _y = bar_data['vlrLiquido']\n",
    "        ax[_i].bar(x=_x, height=_y, width=bar_width, align='center', color=sns.color_palette('tab20')[_j])\n",
    "    \n",
    "    # LIMITS\n",
    "    ax[_i].set_xlim(bar_xlim)\n",
    "    ax[_i].set_ylim(bar_ylim)\n",
    "    \n",
    "    # TICK LABELS - REMOVE ALL FROM X AXIS\n",
    "    ax[_i].set_xticks([])\n",
    "    \n",
    "    # AXIS LABELS\n",
    "    ax[_i].set_ylabel(\"BRL 1k\", labelpad=10)\n",
    "    \n",
    "    # SECONDARY Y AXIS\n",
    "    # The creation of a secondary axis requires transformation functions. I just need the label...\n",
    "    # https://matplotlib.org/stable/api/_as_gen/matplotlib.axes.Axes.secondary_yaxis.html\n",
    "    sec_y = ax[_i].secondary_yaxis(location='right', functions=(lambda t: t, lambda t: t))\n",
    "    sec_y.set_yticks([])\n",
    "    sec_y.set_ylabel(f\"{_year}\")\n",
    "    \n",
    "    # GRID\n",
    "    ax[_i].grid(axis='x', which='major', visible=False)\n",
    "    ax[_i].grid(axis='y', which='major', visible=True)\n",
    "    \n",
    "    # SPINES\n",
    "    # Can't forget that the secondary Y axis is based on a duplicate AXES, so it needs disabling spine too.\n",
    "    sec_y.spines.right.set_visible(False)\n",
    "    ax[_i].spines.top.set_visible(False)\n",
    "    ax[_i].spines.right.set_visible(False)\n",
    "    ax[_i].spines.left.set_visible(False)\n",
    "    \n",
    "    # FORMATTING Y AXIS TICK LABELS\n",
    "    # See documentation on why the lambda function has two arguments and use only one\n",
    "    # https://matplotlib.org/stable/api/ticker_api.html#matplotlib.ticker.FuncFormatter\n",
    "    ax[_i].yaxis.set_major_formatter(ticker.FuncFormatter(lambda t, s: f\"{t / 1000}\"))\n",
    "\n",
    "# TICK LABELS - ADD JUST LABELS TO THE BOTTOM AXES \n",
    "ax[-1].set_xticks(ticks=bar_xticks_major, labels=bar_xlabels)\n",
    "    \n",
    "# LEGEND (customized)\n",
    "legend_elements = []\n",
    "for _j, _categ in enumerate(categ):\n",
    "    legend_elements.append(\n",
    "        Patch(\n",
    "            facecolor=sns.color_palette('tab20')[_j],\n",
    "            edgecolor=sns.color_palette('tab20')[_j],\n",
    "            label=_categ\n",
    "        )\n",
    "    )\n",
    "fig.legend(handles=legend_elements, frameon=False, ncol=4, loc='lower center', bbox_to_anchor=(0.5, 0.01))\n",
    "\n",
    "# TITLE\n",
    "fig.suptitle(t=\"Monthly Mean Expenses by Category - All Representatives\", y=0.92, fontsize=18)\n",
    "\n",
    "# ADJUST SPACING BETWEEN PLOTS\n",
    "plt.subplots_adjust(hspace=0.1)\n",
    "    \n",
    "plt.show()"
   ]
  },
  {
   "cell_type": "code",
   "execution_count": null,
   "id": "54e0d37f",
   "metadata": {},
   "outputs": [],
   "source": [
    "# Quick check on which parties spent more in chartered flights... No surprises here.\n",
    "budget_chartered = budget_complete[budget_complete['txtClassification'] == 'Chartered Flights'][['txNomeParlamentar', 'sgUF', 'sgPartido', 'vlrLiquidoCorrigido']].copy()\n",
    "budget_chartered.groupby('sgPartido').sum()['vlrLiquidoCorrigido'].apply(lambda t: f\"R$ {t :,.2f}\")"
   ]
  },
  {
   "cell_type": "code",
   "execution_count": null,
   "id": "863592bd",
   "metadata": {
    "scrolled": false
   },
   "outputs": [],
   "source": [
    "# Checking how are the categories are distributed (needs improvement)\n",
    "fig, ax = plt.subplots(figsize=(16, 9))\n",
    "\n",
    "sns.boxplot(x=budget_complete['txtClassification'], y=budget_complete['vlrLiquidoCorrigido'], ax=ax)\n",
    "ax.tick_params(axis='x', labelrotation=90)"
   ]
  },
  {
   "cell_type": "code",
   "execution_count": null,
   "id": "78f780bf",
   "metadata": {},
   "outputs": [],
   "source": [
    "# Filtering off the party leaderships, etc.\n",
    "(budget_complete[\n",
    "    (budget_complete['numAno'] == 2019)\n",
    "    & (~budget_complete['txNomeParlamentar'].str.startswith('LID'))\n",
    "    & (budget_complete['nuLegislatura'] == 2019)\n",
    "])"
   ]
  },
  {
   "cell_type": "code",
   "execution_count": null,
   "id": "63ab1880",
   "metadata": {},
   "outputs": [],
   "source": [
    "# The number of representatives oscilate due to several reasons. The explanation is not on the scope of the project.\n",
    "# Hence calculating the average monthly expense should be done manually.\n",
    "repres_count = (budget_complete[\n",
    "    (~budget_complete['txNomeParlamentar'].str.startswith('LID'))\n",
    "    & (budget_complete['nuLegislatura'] == 2019)\n",
    "].groupby(['numAno', 'numMes'])['txNomeParlamentar'].nunique())\n",
    "\n",
    "repres_expenses = (budget_complete[\n",
    "    (~budget_complete['txNomeParlamentar'].str.startswith('LID'))\n",
    "    & (budget_complete['nuLegislatura'] == 2019)\n",
    "].groupby(['numAno', 'numMes'])['vlrLiquidoCorrigido'].sum())\n",
    "\n",
    "repres_avg = pd.concat([repres_count, repres_expenses], axis=1).reset_index()\n",
    "\n",
    "repres_avg"
   ]
  },
  {
   "cell_type": "code",
   "execution_count": null,
   "id": "e9c726cd",
   "metadata": {},
   "outputs": [],
   "source": [
    "quota[quota.index == \"SP\"]['vlrCota']"
   ]
  },
  {
   "cell_type": "code",
   "execution_count": null,
   "id": "07a33a73",
   "metadata": {
    "scrolled": true
   },
   "outputs": [],
   "source": [
    "# Calculating average monthly expense and percentage of the maximum stablished budget.\n",
    "repres_avg['vlrMedioMensal'] = repres_avg['vlrLiquidoCorrigido'] / repres_avg['txNomeParlamentar']\n",
    "repres_avg['percentTeto'] = round(repres_avg['vlrMedioMensal'] / float(quota[quota.index == \"SP\"]['vlrCota']) * 100, 1)\n",
    "repres_avg"
   ]
  },
  {
   "cell_type": "code",
   "execution_count": null,
   "id": "4a3bae54",
   "metadata": {},
   "outputs": [],
   "source": [
    "budget_totals = budget.groupby(['numAno', 'numMes'])['vlrLiquido'].sum().reset_index()\n",
    "budget_totals"
   ]
  },
  {
   "cell_type": "code",
   "execution_count": null,
   "id": "f8b325fa",
   "metadata": {},
   "outputs": [],
   "source": [
    "# PLOTTING SELECTED REPRESENTATIVE MONTHLY TOTAL IN COMPARISON TO THE HOUSE'S MONTHLY AVERAGE\n",
    "# \"Constants\"\n",
    "years = list(repres_avg['numAno'].unique())\n",
    "lin_xlim = (0.5, 12.5)\n",
    "lin_xticks = range(1, 13)\n",
    "lin_xlabels = ['Jan', 'Feb', 'Mar', 'Apr', 'May', 'Jun', 'Jul', 'Aug', 'Sep', 'Oct', 'Nov', 'Dec']\n",
    "lin_y_interval = 12500\n",
    "lin_y_max = (max(repres_avg['vlrMedioMensal']) // lin_y_interval + 1) * lin_y_interval\n",
    "lin_ylim = (0, lin_y_max + 10000)\n",
    "lin_yticks = np.linspace(0, lin_y_max, int(lin_y_max // lin_y_interval))\n",
    "monthly_limit = float(quota[quota.index == \"SP\"]['vlrCota'])\n",
    "\n",
    "\n",
    "fig, ax = plt.subplots(figsize=(16, 9), nrows=len(years), ncols=1, sharex=True, sharey=True)\n",
    "\n",
    "for _i, _year in enumerate(years):\n",
    "    line_data = repres_avg[repres_avg['numAno'] == _year]\n",
    "    scatter_data = budget_totals[budget_totals['numAno'] == _year]\n",
    "    ax[_i].axhline(y=monthly_limit, xmin=0, xmax=1, color='grey', linestyle='--', alpha=0.9)\n",
    "    ax[_i].plot(line_data['numMes'], line_data['vlrMedioMensal'], color='dodgerblue', linewidth=2.0)\n",
    "    ax[_i].scatter(scatter_data['numMes'], scatter_data['vlrLiquido'], color='darkorange')\n",
    "    \n",
    "    sec_y = ax[_i].secondary_yaxis(location='right', functions=(lambda t: t, lambda t: t))\n",
    "    sec_y.set_yticks([])\n",
    "    sec_y.set_ylabel(f\"{_year}\")\n",
    "    \n",
    "    ax[_i].set_ylabel(\"BRL 1k\", labelpad=10)\n",
    "    ax[_i].yaxis.set_major_formatter(ticker.FuncFormatter(lambda t, s: f\"{t / 1000}\"))\n",
    "    \n",
    "    ax[_i].grid(axis='x', which='major', visible=True, alpha=0.6)\n",
    "    ax[_i].grid(axis='y', which='major', visible=True, alpha=0.6)\n",
    "    \n",
    "    sec_y.spines.right.set_visible(False)\n",
    "    ax[_i].spines.top.set_visible(False)\n",
    "    ax[_i].spines.right.set_visible(False)\n",
    "    ax[_i].spines.left.set_visible(False)\n",
    "    \n",
    "ax[-1].set_xlim(lin_xlim)\n",
    "ax[-1].set_ylim(lin_ylim)   \n",
    "ax[-1].set_xticks(ticks=lin_xticks, labels=lin_xlabels)\n",
    "ax[-1].set_yticks(ticks=lin_yticks)\n",
    "\n",
    "# LEGEND (customized)\n",
    "legend_elements = []\n",
    "legend_elements.append(Patch(facecolor='dodgerblue', edgecolor='dodgerblue', label='House Average'))\n",
    "legend_elements.append(\n",
    "    Line2D([], [], color='darkorange', marker='o', linestyle='', markersize=10,\n",
    "           label='Selected Representative Total')\n",
    ")\n",
    "legend_elements.append(\n",
    "    Line2D([], [], color='grey', marker='', linestyle='--', alpha=0.9,\n",
    "           label='Limit Monthly Budget (São Paulo)')\n",
    ")\n",
    "fig.legend(handles=legend_elements, frameon=False, ncol=4, loc='lower center', bbox_to_anchor=(0.5, 0.01))\n",
    "\n",
    "fig.suptitle(t=\"Monthly Mean of Representatives & Monthly Total for Selected Representative\", y=0.92, fontsize=18)\n",
    "\n",
    "plt.subplots_adjust(hspace=0.1)\n",
    "\n",
    "plt.show()"
   ]
  },
  {
   "cell_type": "code",
   "execution_count": null,
   "id": "1ddc1277",
   "metadata": {},
   "outputs": [],
   "source": [
    "# Since the house spend, on average, a big part of its budget on Consulting, I want to check how my Representative\n",
    "# spends on this category. Checking the profile of the suppliers.\n",
    "budget_details = budget[budget['txtClassification'] == \"Consulting\"].groupby(['txtFornecedor'])['vlrLiquido'].sum().sort_values(ascending=False).reset_index()\n",
    "budget_details"
   ]
  },
  {
   "cell_type": "code",
   "execution_count": null,
   "id": "79ccc639",
   "metadata": {},
   "outputs": [],
   "source": [
    "# Anonymizing the suppliers for publication\n",
    "supplier_unnamed = dict()\n",
    "for _t, _supp in enumerate(budget_details['txtFornecedor']):\n",
    "    supplier_unnamed[_supp] = \"Supplier \" + chr(_t + 65)\n",
    "\n",
    "supplier_unnamed"
   ]
  },
  {
   "cell_type": "code",
   "execution_count": null,
   "id": "f35ff3eb",
   "metadata": {},
   "outputs": [],
   "source": [
    "budget_details['txtSupplierUnnamed'] = budget_details['txtFornecedor'].apply(lambda t: supplier_unnamed[t])\n",
    "budget_details['vlrLiquidoAcum'] = budget_details['vlrLiquido'].cumsum()\n",
    "budget_details['vlrLiquidoAcumPerc'] = budget_details['vlrLiquidoAcum'] / max(budget_details['vlrLiquidoAcum']) * 100\n",
    "budget_details"
   ]
  },
  {
   "cell_type": "code",
   "execution_count": null,
   "id": "2a334691",
   "metadata": {},
   "outputs": [],
   "source": [
    "budget_details[['txtSupplierUnnamed', 'vlrLiquido', 'vlrLiquidoAcum', 'vlrLiquidoAcumPerc']]"
   ]
  }
 ],
 "metadata": {
  "kernelspec": {
   "display_name": "mtg_env",
   "language": "python",
   "name": "mtg_env"
  },
  "language_info": {
   "codemirror_mode": {
    "name": "ipython",
    "version": 3
   },
   "file_extension": ".py",
   "mimetype": "text/x-python",
   "name": "python",
   "nbconvert_exporter": "python",
   "pygments_lexer": "ipython3",
   "version": "3.10.0"
  }
 },
 "nbformat": 4,
 "nbformat_minor": 5
}
