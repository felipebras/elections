{
 "cells": [
  {
   "cell_type": "code",
   "execution_count": null,
   "id": "a25eeeb0",
   "metadata": {},
   "outputs": [],
   "source": [
    "import numpy as np\n",
    "import pandas as pd\n",
    "import matplotlib.pyplot as plt\n",
    "from matplotlib.lines import Line2D\n",
    "import seaborn as sns\n",
    "import networkx as nx\n",
    "import time\n",
    "import itertools"
   ]
  },
  {
   "cell_type": "code",
   "execution_count": null,
   "id": "d2081eeb",
   "metadata": {
    "scrolled": true
   },
   "outputs": [],
   "source": [
    "deputados = pd.read_csv('deputados.csv', delimiter=';')\n",
    "deputados"
   ]
  },
  {
   "cell_type": "code",
   "execution_count": null,
   "id": "b47ad530",
   "metadata": {},
   "outputs": [],
   "source": [
    "deputados.columns"
   ]
  },
  {
   "cell_type": "code",
   "execution_count": null,
   "id": "ee0afa41",
   "metadata": {
    "scrolled": true,
    "tags": []
   },
   "outputs": [],
   "source": [
    "legislaturas = pd.read_csv('legislaturas.csv', delimiter=';')\n",
    "legislaturas"
   ]
  },
  {
   "cell_type": "code",
   "execution_count": null,
   "id": "51dfafbd",
   "metadata": {
    "tags": []
   },
   "outputs": [],
   "source": [
    "budget_2019 = pd.read_csv('Ano-2019.csv', delimiter=';')\n",
    "budget_2020 = pd.read_csv('Ano-2020.csv', delimiter=';')\n",
    "budget_2021 = pd.read_csv('Ano-2021.csv', delimiter=';')\n",
    "budget_2022 = pd.read_csv('Ano-2022.csv', delimiter=';')\n",
    "budget = pd.concat([budget_2019.copy(), budget_2020.copy(), budget_2021.copy(), budget_2022.copy()])"
   ]
  },
  {
   "cell_type": "code",
   "execution_count": null,
   "id": "68703989",
   "metadata": {
    "tags": []
   },
   "outputs": [],
   "source": [
    "budget.columns"
   ]
  },
  {
   "cell_type": "code",
   "execution_count": null,
   "id": "524c4bcf",
   "metadata": {},
   "outputs": [],
   "source": [
    "parties = budget.groupby('txNomeParlamentar')['sgPartido'].unique().reset_index()\n",
    "parties"
   ]
  },
  {
   "cell_type": "code",
   "execution_count": null,
   "id": "c998881f",
   "metadata": {},
   "outputs": [],
   "source": [
    "parties[['Partido1', 'Partido2']] = parties['sgPartido'].astype(str).str.strip(\"[]\").astype(str).str.split(pat=\" \", expand=True)\n",
    "parties"
   ]
  },
  {
   "cell_type": "code",
   "execution_count": null,
   "id": "65082860",
   "metadata": {},
   "outputs": [],
   "source": [
    "# Remove \"LIDERANÇAS\", which have party set to 'nan'\n",
    "parties = parties[parties['Partido1'] != 'nan']"
   ]
  },
  {
   "cell_type": "code",
   "execution_count": null,
   "id": "94030859-9a49-4ca7-b664-f94333a504b0",
   "metadata": {},
   "outputs": [],
   "source": [
    "parties_pivot = parties.pivot(index='txNomeParlamentar', columns=['Partido1'], values=['Partido1', 'Partido2'])\n",
    "parties_pivot"
   ]
  },
  {
   "cell_type": "code",
   "execution_count": null,
   "id": "0165d506-02ea-4c9f-8e33-3636f9719876",
   "metadata": {
    "tags": []
   },
   "outputs": [],
   "source": [
    "list(zip(parties['txNomeParlamentar'], parties['Partido1'].str.strip(\"'\")))"
   ]
  },
  {
   "cell_type": "code",
   "execution_count": null,
   "id": "d40a99b5-4510-4ef1-b51a-0b64262e2dcd",
   "metadata": {
    "jupyter": {
     "source_hidden": true
    },
    "tags": []
   },
   "outputs": [],
   "source": [
    "parties_pile = parties.melt(id_vars='txNomeParlamentar', value_vars=['Partido1', 'Partido2'], var_name='PartidoNum', value_name='PartidoSigla')\n",
    "parties_pile_valid = parties_pile[~parties_pile['PartidoSigla'].isna()].copy()\n",
    "parties_pile_valid"
   ]
  },
  {
   "cell_type": "code",
   "execution_count": null,
   "id": "068f1702-4131-4510-bd63-9acfc604a35b",
   "metadata": {},
   "outputs": [],
   "source": [
    "parties_pile_valid['Edges'] = list(zip(parties_pile_valid['txNomeParlamentar'], parties_pile_valid['PartidoSigla'].str.replace(\"'\", \"\")))\n",
    "parties_pile_valid"
   ]
  },
  {
   "cell_type": "code",
   "execution_count": null,
   "id": "57d80aea-be40-4042-b909-93678db4a1e2",
   "metadata": {},
   "outputs": [],
   "source": [
    "# https://networkx.org/nx-guides/content/exploratory_notebooks/facebook_notebook.html#basic-topological-attributes\n",
    "# https://networkx.org/documentation/stable/reference/index.html\n",
    "\n",
    "graph = nx.Graph()\n",
    "for _name in parties['txNomeParlamentar']:\n",
    "    graph.add_node(_name)\n",
    "for _edge in parties_pile_valid['Edges']:\n",
    "    graph.add_edge(*_edge) # *_edge to unpack the tuple"
   ]
  },
  {
   "cell_type": "code",
   "execution_count": null,
   "id": "298909a8-e2ce-4062-9f82-4af38d90d428",
   "metadata": {},
   "outputs": [],
   "source": [
    "# Creating the parties cmap according to political spectrum\n",
    "parties_cmap = {'left': \"#D8113A\", 'center-left': \"#F25B92\", 'center': \"#FFBC42\", 'center-right': \"#0496FF\", 'right': \"#006BA6\"}\n",
    "representative_cmap = \"#6c757d\"\n",
    "\n",
    "# Assigning spectrum to parties\n",
    "parties_spectrum = {'DEM': 'center-right',\n",
    "                    'PODE': 'center-right',\n",
    "                    'AVANTE': 'center',\n",
    "                    'PT': 'center-left',\n",
    "                    'PR': 'right',\n",
    "                    'PRB': 'right',\n",
    "                    'PP': 'right',\n",
    "                    'PTB': 'right',\n",
    "                    'PSC': 'right',\n",
    "                    'PROS': 'center',\n",
    "                    'PDT': 'center-left',\n",
    "                    'PV': 'center-left',\n",
    "                    'PSDB': 'center-right',\n",
    "                    'PPS': 'center-left',\n",
    "                    'PSD': 'center',\n",
    "                    'SOLIDARIEDADE': 'center',\n",
    "                    'UNIÃO': 'center-right',\n",
    "                    'MDB': 'center-right',\n",
    "                    'NOVO': 'right',\n",
    "                    'PATRIOTA': 'right',\n",
    "                    'PSB': 'center-left',\n",
    "                    'CIDADANIA': 'center-left',\n",
    "                    'REPUBLICANOS': 'right',\n",
    "                    'PCdoB': 'left',\n",
    "                    'PL': 'right',\n",
    "                    'PATRI': 'right',\n",
    "                    'PHS': 'center-right',\n",
    "                    'PSL': 'right',\n",
    "                    'PSOL': 'left',\n",
    "                    'REDE': 'center-left',\n",
    "                    'S.PART.': 'center',\n",
    "                    'PPL': 'left'}\n",
    "\n",
    "# Using the dict keys to finally create a list of acronyms\n",
    "parties_acronyms = list(parties_spectrum.keys())\n",
    "\n",
    "def assign_color(node: str) -> str:\n",
    "    \"\"\"Return an entry for the node color list, based on party spectrum or representative.\n",
    "    \"\"\"\n",
    "    color: str = \"\"\n",
    "    if node in parties_acronyms:\n",
    "        color = parties_cmap[parties_spectrum[node]]\n",
    "    else:\n",
    "        color = representative_cmap\n",
    "        \n",
    "    return color\n",
    "\n",
    "# Creating the list of colors for each node\n",
    "node_colors = [assign_color(node) for node in graph.nodes()]"
   ]
  },
  {
   "cell_type": "code",
   "execution_count": null,
   "id": "4ac9ba24-150d-4ef6-a32b-7b9e24c57f98",
   "metadata": {
    "tags": []
   },
   "outputs": [],
   "source": [
    "# Creating different sizes for nodes that are parties and nodes that are representatives\n",
    "node_sizes = [300 if node in parties_acronyms else 10 for node in graph.nodes()]"
   ]
  },
  {
   "cell_type": "code",
   "execution_count": null,
   "id": "cac4bb21-e6af-464d-84a0-15648226d896",
   "metadata": {},
   "outputs": [],
   "source": [
    "pos = nx.spring_layout(graph, seed=61189, iterations=25)"
   ]
  },
  {
   "cell_type": "code",
   "execution_count": null,
   "id": "f24ffb1a-d991-4d5a-b436-759bbddd7a38",
   "metadata": {},
   "outputs": [],
   "source": [
    "plot_options = {\"with_labels\": False, \"width\": 0.15, \"alpha\":0.6}\n",
    "fig, ax = plt.subplots(figsize=(16, 9))\n",
    "ax.axis(\"off\")\n",
    "nx.draw_networkx(G=graph, pos=pos, ax=ax, node_size=node_sizes, **plot_options)"
   ]
  },
  {
   "cell_type": "code",
   "execution_count": null,
   "id": "d52dfad7-e093-4eb2-b909-5a9da0d002c2",
   "metadata": {},
   "outputs": [],
   "source": [
    "plot_options = {\"with_labels\": False, \"width\": 0.15, \"alpha\":1.0}\n",
    "fig, ax = plt.subplots(figsize=(16, 9))\n",
    "ax.axis(\"off\")\n",
    "nx.draw_networkx(G=graph, pos=pos, ax=ax, node_color=node_colors, node_size=node_sizes, **plot_options)"
   ]
  },
  {
   "cell_type": "code",
   "execution_count": null,
   "id": "21b8cab1-b71e-408b-8378-5aef585a1745",
   "metadata": {},
   "outputs": [],
   "source": [
    "# \"Self referencing\" dict, only for the parties names to appear as labels in the graph\n",
    "parties_labels_pos = dict(zip(list(pos.keys())[-32:], list(pos.keys())[-32:]))"
   ]
  },
  {
   "cell_type": "code",
   "execution_count": null,
   "id": "200235d0-e266-472b-be59-02c407e11e44",
   "metadata": {},
   "outputs": [],
   "source": [
    "plot_options = {\"with_labels\": False, \"width\": 0.15, 'alpha': 0.7}\n",
    "fig, ax = plt.subplots(figsize=(16, 9))\n",
    "ax.axis(\"off\")\n",
    "nx.draw_networkx(G=graph, pos=pos, ax=ax, node_color=node_colors, node_size=node_sizes, **plot_options)\n",
    "nx.draw_networkx_labels(graph, pos, parties_labels_pos, font_size=10, font_weight='bold', horizontalalignment='left', verticalalignment='top')\n",
    "\n",
    "# LEGEND (customized)\n",
    "legend_elements = []\n",
    "for party in parties_cmap.keys():\n",
    "    legend_elements.append(\n",
    "        Line2D(\n",
    "            [], [],\n",
    "            marker='o',\n",
    "            markersize=12,\n",
    "            markeredgecolor=parties_cmap[party],\n",
    "            markerfacecolor=parties_cmap[party],\n",
    "            linestyle='',\n",
    "            label=str.capitalize(party)\n",
    "        )\n",
    "    )\n",
    "fig.legend(handles=legend_elements, frameon=False, loc='lower center', ncol=len(parties_cmap), fontsize=13, handletextpad=0.1)"
   ]
  },
  {
   "cell_type": "code",
   "execution_count": null,
   "id": "af616788-2f53-4026-8718-e7ec0a8ede54",
   "metadata": {},
   "outputs": [],
   "source": [
    "party_centrality = pd.DataFrame.from_dict(nx.centrality.degree_centrality(graph), orient='index', columns=['Centrality'])\n",
    "party_centrality['Spectrum'] = party_centrality.index.map(parties_spectrum).astype(str).map(str.capitalize)\n",
    "# party_centrality[party_centrality.index.isin(parties_acronyms)].sort_values(by='Centrality', ascending=False).apply(lambda t: round(t * 100, 2))\n",
    "party_centrality['Centrality %'] = (\n",
    "    party_centrality[party_centrality.index.isin(parties_acronyms)]['Centrality']\n",
    "    .apply(lambda t: round(t * 100, 2))\n",
    ")\n",
    "\n",
    "party_centrality[party_centrality.index.isin(parties_acronyms)].sort_values(by='Centrality', ascending=False)[['Spectrum', 'Centrality %']].head(10)\n"
   ]
  },
  {
   "cell_type": "code",
   "execution_count": null,
   "id": "7713aec2-c367-484e-9f2e-60b37fea2f98",
   "metadata": {
    "tags": []
   },
   "outputs": [],
   "source": [
    "pd.DataFrame.from_dict(nx.centrality.betweenness_centrality(graph), orient='index', columns=['Betweeness']).sort_values(by='Betweeness', ascending=False).head(30)"
   ]
  },
  {
   "cell_type": "code",
   "execution_count": null,
   "id": "b8af099e-30e8-4c46-b2fd-0332162833c6",
   "metadata": {
    "tags": []
   },
   "outputs": [],
   "source": [
    "pd.DataFrame.from_dict(nx.centrality.closeness_centrality(graph), orient='index', columns=['Closeness']).sort_values(by='Closeness', ascending=False).head(30)"
   ]
  }
 ],
 "metadata": {
  "kernelspec": {
   "display_name": "mtg_env",
   "language": "python",
   "name": "mtg_env"
  },
  "language_info": {
   "codemirror_mode": {
    "name": "ipython",
    "version": 3
   },
   "file_extension": ".py",
   "mimetype": "text/x-python",
   "name": "python",
   "nbconvert_exporter": "python",
   "pygments_lexer": "ipython3",
   "version": "3.10.0"
  }
 },
 "nbformat": 4,
 "nbformat_minor": 5
}
